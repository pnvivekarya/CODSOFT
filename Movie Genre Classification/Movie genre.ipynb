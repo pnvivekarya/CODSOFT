{
 "cells": [
  {
   "cell_type": "code",
   "execution_count": 1,
   "id": "25eb4c63-be56-4529-83a6-2ced2265aab7",
   "metadata": {},
   "outputs": [],
   "source": [
    "import numpy as np\n",
    "import pandas as pd\n",
    "import tqdm as tlsd\n",
    "import sklearn.naive_bayes as nb\n",
    "import sklearn.feature_extraction.text as fe_text\n",
    "import sklearn.metrics as metrics\n",
    "import sklearn.preprocessing as preproc\n",
    "import sklearn.multioutput as multiout"
   ]
  },
  {
   "cell_type": "code",
   "execution_count": 2,
   "id": "bfb8a4b2-be8f-43ca-b2e3-e072872fe278",
   "metadata": {},
   "outputs": [],
   "source": [
    "genre_options = [\n",
    "    'action', 'adult', 'adventure', 'animation', 'biography', 'comedy', 'crime',\n",
    "    'documentary', 'family', 'fantasy', 'game-show', 'history', 'horror', 'music', \n",
    "    'musical', 'mystery', 'news', 'reality-tv', 'romance', 'sci-fi', 'short', \n",
    "    'sport', 'talk-show', 'thriller', 'war', 'western'\n",
    "]\n",
    "\n",
    "\n",
    "unknown_genre = 'Unknown'"
   ]
  },
  {
   "cell_type": "code",
   "execution_count": 5,
   "id": "390ec9dc-1a3d-4d91-8a21-ac0b2c1616cd",
   "metadata": {},
   "outputs": [
    {
     "name": "stdout",
     "output_type": "stream",
     "text": [
      "Loading and preprocessing training data...\n"
     ]
    },
    {
     "name": "stderr",
     "output_type": "stream",
     "text": [
      "Loading Training Data: 100%|███████████████████████████████████████████████████████████| 50/50 [00:00<00:00, 72.15it/s]\n"
     ]
    }
   ],
   "source": [
    "try:\n",
    "    print(\"Loading and preprocessing training data...\")\n",
    "    train_progress = tlsd.tqdm(total=50, desc=\"Loading Training Data\")\n",
    "    train_data = pd.read_csv('train_data.txt', sep=':::', header=None, \n",
    "                             names=['ID', 'TITLE', 'GENRE', 'SUMMARY'], engine='python')\n",
    "    train_progress.update(50)\n",
    "    train_progress.close()\n",
    "except Exception as error:\n",
    "    print(f\"Error loading training data: {error}\")\n",
    "    raise"
   ]
  },
  {
   "cell_type": "code",
   "execution_count": 6,
   "id": "05881392-c40b-43ff-9c32-c7b21c6aeed2",
   "metadata": {},
   "outputs": [],
   "source": [
    "train_summaries = train_data['SUMMARY'].astype(str).str.lower()\n",
    "train_genres = [labels.split(', ') for labels in train_data['GENRE']]\n",
    "mlb = preproc.MultiLabelBinarizer()\n",
    "y_train_data = mlb.fit_transform(train_genres)"
   ]
  },
  {
   "cell_type": "code",
   "execution_count": 7,
   "id": "0bded1c4-d806-4cd5-9bb3-e14f0e85bc65",
   "metadata": {},
   "outputs": [
    {
     "name": "stdout",
     "output_type": "stream",
     "text": [
      "Vectorizing training data...\n"
     ]
    },
    {
     "name": "stderr",
     "output_type": "stream",
     "text": [
      "Vectorizing Training Data: 100%|███████████████████████████████████████████████████████| 50/50 [00:10<00:00,  4.72it/s]\n"
     ]
    }
   ],
   "source": [
    "print(\"Vectorizing training data...\")\n",
    "tfidf_vectorizer = fe_text.TfidfVectorizer(max_features=5000)\n",
    "tfidf_progress = tlsd.tqdm(total=50, desc=\"Vectorizing Training Data\")\n",
    "X_train_vectors = tfidf_vectorizer.fit_transform(train_summaries)\n",
    "tfidf_progress.update(50)\n",
    "tfidf_progress.close()"
   ]
  },
  {
   "cell_type": "code",
   "execution_count": 8,
   "id": "339d6db1-a952-4933-a600-cac15f33e20b",
   "metadata": {},
   "outputs": [
    {
     "name": "stdout",
     "output_type": "stream",
     "text": [
      "Training model...\n"
     ]
    },
    {
     "name": "stderr",
     "output_type": "stream",
     "text": [
      "Training Model: 100%|██████████████████████████████████████████████████████████████████| 50/50 [00:01<00:00, 36.68it/s]\n"
     ]
    }
   ],
   "source": [
    "# Train the multi-label classification model using Naive Bayes\n",
    "print(\"Training model...\")\n",
    "classifier = multiout.MultiOutputClassifier(nb.MultinomialNB())\n",
    "model_progress = tlsd.tqdm(total=50, desc=\"Training Model\")\n",
    "classifier.fit(X_train_vectors, y_train_data)\n",
    "model_progress.update(50)\n",
    "model_progress.close()"
   ]
  },
  {
   "cell_type": "code",
   "execution_count": 9,
   "id": "f51367b0-d007-4574-95f5-c2563649b0b9",
   "metadata": {},
   "outputs": [
    {
     "name": "stdout",
     "output_type": "stream",
     "text": [
      "Loading and preprocessing test data...\n"
     ]
    },
    {
     "name": "stderr",
     "output_type": "stream",
     "text": [
      "Loading Test Data: 100%|███████████████████████████████████████████████████████████████| 50/50 [00:00<00:00, 67.58it/s]\n"
     ]
    }
   ],
   "source": [
    "# Load and preprocess test data\n",
    "try:\n",
    "    print(\"Loading and preprocessing test data...\")\n",
    "    test_progress = tlsd.tqdm(total=50, desc=\"Loading Test Data\")\n",
    "    test_data = pd.read_csv('test_data.txt', sep=':::', header=None, \n",
    "                            names=['ID', 'TITLE', 'SUMMARY'], engine='python')\n",
    "    test_progress.update(50)\n",
    "    test_progress.close()\n",
    "except Exception as error:\n",
    "    print(f\"Error loading test data: {error}\")\n",
    "    raise"
   ]
  },
  {
   "cell_type": "code",
   "execution_count": 10,
   "id": "89647417-a6e3-4e85-b32a-d5ddcc1bbecb",
   "metadata": {},
   "outputs": [
    {
     "name": "stdout",
     "output_type": "stream",
     "text": [
      "Vectorizing test data...\n"
     ]
    }
   ],
   "source": [
    "# Convert test summaries to lowercase and transform using TF-IDF\n",
    "test_summaries = test_data['SUMMARY'].astype(str).str.lower()\n",
    "print(\"Vectorizing test data...\")\n",
    "X_test_vectors = tfidf_vectorizer.transform(test_summaries)\n"
   ]
  },
  {
   "cell_type": "code",
   "execution_count": 11,
   "id": "d1bb8401-4a6b-4304-8d9c-fcfdb92e5569",
   "metadata": {},
   "outputs": [
    {
     "name": "stdout",
     "output_type": "stream",
     "text": [
      "Predicting genres for test data...\n"
     ]
    },
    {
     "name": "stderr",
     "output_type": "stream",
     "text": [
      "Making Predictions: 100%|██████████████████████████████████████████████████████████████| 50/50 [00:00<00:00, 53.20it/s]\n"
     ]
    }
   ],
   "source": [
    "# Predict genres for the test data\n",
    "print(\"Predicting genres for test data...\")\n",
    "prediction_progress = tlsd.tqdm(total=50, desc=\"Making Predictions\")\n",
    "y_predicted = classifier.predict(X_test_vectors)\n",
    "prediction_progress.update(50)\n",
    "prediction_progress.close()"
   ]
  },
  {
   "cell_type": "code",
   "execution_count": 14,
   "id": "65a975b7-0ec3-478b-879b-213d1919b46a",
   "metadata": {},
   "outputs": [
    {
     "name": "stdout",
     "output_type": "stream",
     "text": [
      "Predicted genres have been saved to 'predicted_genres_output.txt'.\n"
     ]
    }
   ],
   "source": [
    "# Save predicted genres to an output file instead of printing\n",
    "predicted_genres_list = mlb.inverse_transform(y_predicted)\n",
    "with open(\"predicted_genres_output.txt\", \"w\", encoding=\"utf-8\") as output_file:\n",
    "    for idx, title in enumerate(test_data['TITLE']):\n",
    "        genres = predicted_genres_list[idx] if predicted_genres_list[idx] else [unknown_genre]\n",
    "        genre_output = ', '.join(genres)\n",
    "        output_file.write(f\"{title} ::: {genre_output}\\n\")\n",
    "\n",
    "print(\"Predicted genres have been saved to 'predicted_genres_output.txt'.\")\n"
   ]
  },
  {
   "cell_type": "code",
   "execution_count": 19,
   "id": "45dbbf33-46b1-4808-970d-d787aaa3c2a1",
   "metadata": {},
   "outputs": [
    {
     "name": "stdout",
     "output_type": "stream",
     "text": [
      "\n",
      "Calculating evaluation metrics...\n",
      "Genre predictions and model metrics displayed successfully.\n"
     ]
    }
   ],
   "source": [
    "# Evaluate model performance on the training set\n",
    "print(\"\\nCalculating evaluation metrics...\")\n",
    "y_train_pred = classifier.predict(X_train_vectors)\n",
    "accuracy = metrics.accuracy_score(y_train_data, y_train_pred)\n",
    "precision = metrics.precision_score(y_train_data, y_train_pred, average='micro')\n",
    "recall = metrics.recall_score(y_train_data, y_train_pred, average='micro')\n",
    "f1 = metrics.f1_score(y_train_data, y_train_pred, average='micro')\n",
    "\n",
    "# Print the model evaluation metrics\n",
    "\n",
    "\n",
    "print(\"Genre predictions and model metrics displayed successfully.\")"
   ]
  },
  {
   "cell_type": "code",
   "execution_count": 20,
   "id": "0bc6049f-653b-419f-a09b-72ae3ba502bd",
   "metadata": {},
   "outputs": [
    {
     "name": "stdout",
     "output_type": "stream",
     "text": [
      "Predicted Genres for the given plot:  documentary \n"
     ]
    }
   ],
   "source": [
    "# Directly define a movie plot for genre prediction\n",
    "movie_plot_input = \"The film's title refers not only to the un-recovered bodies at ground zero, but also to the state of the nation at large. Set in the hallucinatory period of time between September 11 and Halloween of 2001, The Unrecovered examines the effect of terror on the average mind, the way a state of heightened anxiety and/or alertness can cause the average person to make the sort of imaginative connections that are normally made only by artists and conspiracy theorists-both of whom figure prominently in this film. The Unrecovered explores the way in which irony, empathy, and paranoia relate to one another in the wake of 9/11.\" \n",
    "\n",
    "# Preprocess and vectorize the input plot\n",
    "movie_plot_processed = [movie_plot_input.lower()]  # Convert to lowercase for consistency\n",
    "movie_plot_vector = tfidf_vectorizer.transform(movie_plot_processed)\n",
    "\n",
    "# Predict genres for the input plot\n",
    "predicted_genres = classifier.predict(movie_plot_vector)\n",
    "predicted_genres_list = mlb.inverse_transform(predicted_genres)\n",
    "\n",
    "# Display the predicted genres\n",
    "if predicted_genres_list[0]:\n",
    "    genres_output = ', '.join(predicted_genres_list[0])\n",
    "else:\n",
    "    genres_output = unknown_genre\n",
    "\n",
    "print(f\"Predicted Genres for the given plot: {genres_output}\")\n"
   ]
  },
  {
   "cell_type": "code",
   "execution_count": null,
   "id": "005e99c3-1d29-4050-8c5f-2ca680e9ce96",
   "metadata": {},
   "outputs": [],
   "source": []
  }
 ],
 "metadata": {
  "kernelspec": {
   "display_name": "Python 3 (ipykernel)",
   "language": "python",
   "name": "python3"
  },
  "language_info": {
   "codemirror_mode": {
    "name": "ipython",
    "version": 3
   },
   "file_extension": ".py",
   "mimetype": "text/x-python",
   "name": "python",
   "nbconvert_exporter": "python",
   "pygments_lexer": "ipython3",
   "version": "3.11.5"
  }
 },
 "nbformat": 4,
 "nbformat_minor": 5
}
